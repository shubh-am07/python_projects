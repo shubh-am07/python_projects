{
 "cells": [
  {
   "cell_type": "code",
   "execution_count": 11,
   "id": "ca5b4065",
   "metadata": {},
   "outputs": [],
   "source": [
    "import qrcode as qr\n",
    "img = qr.make(\"https://www.youtube.com/channel/UChUMDRFZVUAVr4OBdh33VGw\")\n",
    "img.save(\"youtube_qrcode.png\")"
   ]
  },
  {
   "cell_type": "code",
   "execution_count": 2,
   "id": "6a7c21f0",
   "metadata": {},
   "outputs": [
    {
     "name": "stdout",
     "output_type": "stream",
     "text": [
      "Collecting qrcodeNote: you may need to restart the kernel to use updated packages.\n",
      "  Using cached qrcode-7.3.1-py3-none-any.whl\n",
      "\n",
      "Requirement already satisfied: colorama in c:\\users\\yoga\\anaconda3\\lib\\site-packages (from qrcode) (0.4.4)\n",
      "Installing collected packages: qrcode\n",
      "Successfully installed qrcode-7.3.1\n"
     ]
    }
   ],
   "source": [
    "pip install qrcode"
   ]
  },
  {
   "cell_type": "code",
   "execution_count": 14,
   "id": "fc025c7d",
   "metadata": {},
   "outputs": [],
   "source": [
    "from PIL import Image"
   ]
  },
  {
   "cell_type": "code",
   "execution_count": 17,
   "id": "c835d65f",
   "metadata": {},
   "outputs": [],
   "source": [
    "qrd = qr.QRCode(version=1,error_correction=qr.constants.ERROR_CORRECT_H,\n",
    "               box_size=10,border=4)\n",
    "qrd.add_data(\"https://www.facebook.com/profile.php?id=100082434613585\")\n",
    "qrd.make(fit = True)\n",
    "img2 = qrd.make_image(fill_color = \"yellow\",back_color = \"black\")\n",
    "img2.save(\"qrcode_facebook.png\")"
   ]
  },
  {
   "cell_type": "code",
   "execution_count": null,
   "id": "e1f2f096",
   "metadata": {},
   "outputs": [],
   "source": []
  }
 ],
 "metadata": {
  "kernelspec": {
   "display_name": "Python 3 (ipykernel)",
   "language": "python",
   "name": "python3"
  },
  "language_info": {
   "codemirror_mode": {
    "name": "ipython",
    "version": 3
   },
   "file_extension": ".py",
   "mimetype": "text/x-python",
   "name": "python",
   "nbconvert_exporter": "python",
   "pygments_lexer": "ipython3",
   "version": "3.9.7"
  }
 },
 "nbformat": 4,
 "nbformat_minor": 5
}
