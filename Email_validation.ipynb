{
 "cells": [
  {
   "cell_type": "code",
   "execution_count": 12,
   "id": "7ac75aaf",
   "metadata": {},
   "outputs": [
    {
     "name": "stdout",
     "output_type": "stream",
     "text": [
      "Enter your email:ldsfslk@d.com\n",
      "Right Email\n"
     ]
    }
   ],
   "source": [
    "j, k, d = 0, 0, 0\n",
    "email = input(\"Enter your email:\")  # g@g.in,wscube@gmail.com\n",
    "if len(email) >= 6:\n",
    "    if email[0].isalpha():\n",
    "        if (\"@\" in email) and (email.count(\"@\") == 1):\n",
    "            if(email[-3] == \".\" )^ (email[-4] == \".\"):\n",
    "                    for i in email:\n",
    "                        if i == i.isspace():\n",
    "                            k = 1\n",
    "                        elif i.isalpha():\n",
    "                            if i == i.upper():  # w--W==w\n",
    "                                j = 1\n",
    "                        elif i.isdigit():\n",
    "                            continue\n",
    "                        elif i == \"_\" or i == \".\" or i == \"@\":\n",
    "                            continue\n",
    "                        else:\n",
    "                            d = 1\n",
    "                    if k == 1 or j == 1 or d == 1:\n",
    "                        print(\"Invalid Email 5\")\n",
    "                    else:\n",
    "                        print(\"Right Email\")\n",
    "\n",
    "\n",
    "            else:\n",
    "                print(\"Invalid Email 4\")\n",
    "        else:\n",
    "            print(\"Invalid Email 3\")\n",
    "    else:\n",
    "        print(\"Invalid Email 2\")\n",
    "else:\n",
    "    print(\"Invalid Email 1\") \n"
   ]
  },
  {
   "cell_type": "code",
   "execution_count": 16,
   "id": "88f4670a",
   "metadata": {},
   "outputs": [
    {
     "name": "stdout",
     "output_type": "stream",
     "text": [
      "Enter your email: shubh2520@gmail.com\n",
      "Right Email\n"
     ]
    }
   ],
   "source": [
    "import re\n",
    "conditional_email = \"^[a-z]+[\\._]?[a-z 0-9]+[@]\\w+[.]\\w{2,3}$\"\n",
    "user_email = input(\"Enter your email: \")\n",
    "if re.search(conditional_email,user_email):\n",
    "    print(\"Right Email\")\n",
    "else:\n",
    "    print(\"Wrong Email\")"
   ]
  },
  {
   "cell_type": "code",
   "execution_count": null,
   "id": "48da1bfe",
   "metadata": {},
   "outputs": [],
   "source": []
  }
 ],
 "metadata": {
  "kernelspec": {
   "display_name": "Python 3 (ipykernel)",
   "language": "python",
   "name": "python3"
  },
  "language_info": {
   "codemirror_mode": {
    "name": "ipython",
    "version": 3
   },
   "file_extension": ".py",
   "mimetype": "text/x-python",
   "name": "python",
   "nbconvert_exporter": "python",
   "pygments_lexer": "ipython3",
   "version": "3.9.7"
  }
 },
 "nbformat": 4,
 "nbformat_minor": 5
}
